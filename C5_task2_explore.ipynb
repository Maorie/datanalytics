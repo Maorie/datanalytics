{
 "cells": [
  {
   "cell_type": "code",
   "execution_count": 55,
   "metadata": {},
   "outputs": [],
   "source": [
    "import pandas as pd\n",
    "import numpy as np"
   ]
  },
  {
   "cell_type": "code",
   "execution_count": 165,
   "metadata": {},
   "outputs": [
    {
     "data": {
      "text/html": [
       "<div>\n",
       "<style scoped>\n",
       "    .dataframe tbody tr th:only-of-type {\n",
       "        vertical-align: middle;\n",
       "    }\n",
       "\n",
       "    .dataframe tbody tr th {\n",
       "        vertical-align: top;\n",
       "    }\n",
       "\n",
       "    .dataframe thead th {\n",
       "        text-align: right;\n",
       "    }\n",
       "</style>\n",
       "<table border=\"1\" class=\"dataframe\">\n",
       "  <thead>\n",
       "    <tr style=\"text-align: right;\">\n",
       "      <th></th>\n",
       "      <th>ID</th>\n",
       "      <th>LIMIT_BAL</th>\n",
       "      <th>SEX</th>\n",
       "      <th>EDUCATION</th>\n",
       "      <th>MARRIAGE</th>\n",
       "      <th>AGE</th>\n",
       "      <th>PAY_0</th>\n",
       "      <th>PAY_2</th>\n",
       "      <th>PAY_3</th>\n",
       "      <th>PAY_4</th>\n",
       "      <th>...</th>\n",
       "      <th>BILL_AMT4</th>\n",
       "      <th>BILL_AMT5</th>\n",
       "      <th>BILL_AMT6</th>\n",
       "      <th>PAY_AMT1</th>\n",
       "      <th>PAY_AMT2</th>\n",
       "      <th>PAY_AMT3</th>\n",
       "      <th>PAY_AMT4</th>\n",
       "      <th>PAY_AMT5</th>\n",
       "      <th>PAY_AMT6</th>\n",
       "      <th>default payment next month</th>\n",
       "    </tr>\n",
       "  </thead>\n",
       "  <tbody>\n",
       "    <tr>\n",
       "      <th>0</th>\n",
       "      <td>1</td>\n",
       "      <td>20000</td>\n",
       "      <td>2</td>\n",
       "      <td>2</td>\n",
       "      <td>1</td>\n",
       "      <td>24</td>\n",
       "      <td>2</td>\n",
       "      <td>2</td>\n",
       "      <td>-1</td>\n",
       "      <td>-1</td>\n",
       "      <td>...</td>\n",
       "      <td>0</td>\n",
       "      <td>0</td>\n",
       "      <td>0</td>\n",
       "      <td>0</td>\n",
       "      <td>689</td>\n",
       "      <td>0</td>\n",
       "      <td>0</td>\n",
       "      <td>0</td>\n",
       "      <td>0</td>\n",
       "      <td>1</td>\n",
       "    </tr>\n",
       "    <tr>\n",
       "      <th>1</th>\n",
       "      <td>2</td>\n",
       "      <td>120000</td>\n",
       "      <td>2</td>\n",
       "      <td>2</td>\n",
       "      <td>2</td>\n",
       "      <td>26</td>\n",
       "      <td>-1</td>\n",
       "      <td>2</td>\n",
       "      <td>0</td>\n",
       "      <td>0</td>\n",
       "      <td>...</td>\n",
       "      <td>3272</td>\n",
       "      <td>3455</td>\n",
       "      <td>3261</td>\n",
       "      <td>0</td>\n",
       "      <td>1000</td>\n",
       "      <td>1000</td>\n",
       "      <td>1000</td>\n",
       "      <td>0</td>\n",
       "      <td>2000</td>\n",
       "      <td>1</td>\n",
       "    </tr>\n",
       "    <tr>\n",
       "      <th>2</th>\n",
       "      <td>3</td>\n",
       "      <td>90000</td>\n",
       "      <td>2</td>\n",
       "      <td>2</td>\n",
       "      <td>2</td>\n",
       "      <td>34</td>\n",
       "      <td>0</td>\n",
       "      <td>0</td>\n",
       "      <td>0</td>\n",
       "      <td>0</td>\n",
       "      <td>...</td>\n",
       "      <td>14331</td>\n",
       "      <td>14948</td>\n",
       "      <td>15549</td>\n",
       "      <td>1518</td>\n",
       "      <td>1500</td>\n",
       "      <td>1000</td>\n",
       "      <td>1000</td>\n",
       "      <td>1000</td>\n",
       "      <td>5000</td>\n",
       "      <td>0</td>\n",
       "    </tr>\n",
       "    <tr>\n",
       "      <th>3</th>\n",
       "      <td>4</td>\n",
       "      <td>50000</td>\n",
       "      <td>2</td>\n",
       "      <td>2</td>\n",
       "      <td>1</td>\n",
       "      <td>37</td>\n",
       "      <td>0</td>\n",
       "      <td>0</td>\n",
       "      <td>0</td>\n",
       "      <td>0</td>\n",
       "      <td>...</td>\n",
       "      <td>28314</td>\n",
       "      <td>28959</td>\n",
       "      <td>29547</td>\n",
       "      <td>2000</td>\n",
       "      <td>2019</td>\n",
       "      <td>1200</td>\n",
       "      <td>1100</td>\n",
       "      <td>1069</td>\n",
       "      <td>1000</td>\n",
       "      <td>0</td>\n",
       "    </tr>\n",
       "    <tr>\n",
       "      <th>4</th>\n",
       "      <td>5</td>\n",
       "      <td>50000</td>\n",
       "      <td>1</td>\n",
       "      <td>2</td>\n",
       "      <td>1</td>\n",
       "      <td>57</td>\n",
       "      <td>-1</td>\n",
       "      <td>0</td>\n",
       "      <td>-1</td>\n",
       "      <td>0</td>\n",
       "      <td>...</td>\n",
       "      <td>20940</td>\n",
       "      <td>19146</td>\n",
       "      <td>19131</td>\n",
       "      <td>2000</td>\n",
       "      <td>36681</td>\n",
       "      <td>10000</td>\n",
       "      <td>9000</td>\n",
       "      <td>689</td>\n",
       "      <td>679</td>\n",
       "      <td>0</td>\n",
       "    </tr>\n",
       "  </tbody>\n",
       "</table>\n",
       "<p>5 rows × 25 columns</p>\n",
       "</div>"
      ],
      "text/plain": [
       "   ID  LIMIT_BAL  SEX  EDUCATION  MARRIAGE  AGE  PAY_0  PAY_2  PAY_3  PAY_4  \\\n",
       "0   1      20000    2          2         1   24      2      2     -1     -1   \n",
       "1   2     120000    2          2         2   26     -1      2      0      0   \n",
       "2   3      90000    2          2         2   34      0      0      0      0   \n",
       "3   4      50000    2          2         1   37      0      0      0      0   \n",
       "4   5      50000    1          2         1   57     -1      0     -1      0   \n",
       "\n",
       "   ...  BILL_AMT4  BILL_AMT5  BILL_AMT6  PAY_AMT1  PAY_AMT2  PAY_AMT3  \\\n",
       "0  ...          0          0          0         0       689         0   \n",
       "1  ...       3272       3455       3261         0      1000      1000   \n",
       "2  ...      14331      14948      15549      1518      1500      1000   \n",
       "3  ...      28314      28959      29547      2000      2019      1200   \n",
       "4  ...      20940      19146      19131      2000     36681     10000   \n",
       "\n",
       "   PAY_AMT4  PAY_AMT5  PAY_AMT6  default payment next month  \n",
       "0         0         0         0                           1  \n",
       "1      1000         0      2000                           1  \n",
       "2      1000      1000      5000                           0  \n",
       "3      1100      1069      1000                           0  \n",
       "4      9000       689       679                           0  \n",
       "\n",
       "[5 rows x 25 columns]"
      ]
     },
     "execution_count": 165,
     "metadata": {},
     "output_type": "execute_result"
    }
   ],
   "source": [
    "#Read csv\n",
    "creditDef = pd.read_csv('C:\\\\Users\\\\Owner\\\\Documents\\\\DataAnalyticsCourse\\\\C5_Task2\\\\defaulter_clients.csv', header =1)\n",
    "creditDef.head()\n",
    "\n"
   ]
  },
  {
   "cell_type": "code",
   "execution_count": 166,
   "metadata": {},
   "outputs": [
    {
     "data": {
      "text/html": [
       "<div>\n",
       "<style scoped>\n",
       "    .dataframe tbody tr th:only-of-type {\n",
       "        vertical-align: middle;\n",
       "    }\n",
       "\n",
       "    .dataframe tbody tr th {\n",
       "        vertical-align: top;\n",
       "    }\n",
       "\n",
       "    .dataframe thead th {\n",
       "        text-align: right;\n",
       "    }\n",
       "</style>\n",
       "<table border=\"1\" class=\"dataframe\">\n",
       "  <thead>\n",
       "    <tr style=\"text-align: right;\">\n",
       "      <th></th>\n",
       "      <th>LIMIT_BAL</th>\n",
       "      <th>SEX</th>\n",
       "      <th>EDUCATION</th>\n",
       "      <th>MARRIAGE</th>\n",
       "      <th>AGE</th>\n",
       "      <th>PAY_0</th>\n",
       "      <th>PAY_2</th>\n",
       "      <th>PAY_3</th>\n",
       "      <th>PAY_4</th>\n",
       "      <th>PAY_5</th>\n",
       "      <th>...</th>\n",
       "      <th>BILL_AMT4</th>\n",
       "      <th>BILL_AMT5</th>\n",
       "      <th>BILL_AMT6</th>\n",
       "      <th>PAY_AMT1</th>\n",
       "      <th>PAY_AMT2</th>\n",
       "      <th>PAY_AMT3</th>\n",
       "      <th>PAY_AMT4</th>\n",
       "      <th>PAY_AMT5</th>\n",
       "      <th>PAY_AMT6</th>\n",
       "      <th>default payment next month</th>\n",
       "    </tr>\n",
       "  </thead>\n",
       "  <tbody>\n",
       "    <tr>\n",
       "      <th>0</th>\n",
       "      <td>20000</td>\n",
       "      <td>2</td>\n",
       "      <td>2</td>\n",
       "      <td>1</td>\n",
       "      <td>24</td>\n",
       "      <td>2</td>\n",
       "      <td>2</td>\n",
       "      <td>-1</td>\n",
       "      <td>-1</td>\n",
       "      <td>-2</td>\n",
       "      <td>...</td>\n",
       "      <td>0</td>\n",
       "      <td>0</td>\n",
       "      <td>0</td>\n",
       "      <td>0</td>\n",
       "      <td>689</td>\n",
       "      <td>0</td>\n",
       "      <td>0</td>\n",
       "      <td>0</td>\n",
       "      <td>0</td>\n",
       "      <td>1</td>\n",
       "    </tr>\n",
       "    <tr>\n",
       "      <th>1</th>\n",
       "      <td>120000</td>\n",
       "      <td>2</td>\n",
       "      <td>2</td>\n",
       "      <td>2</td>\n",
       "      <td>26</td>\n",
       "      <td>-1</td>\n",
       "      <td>2</td>\n",
       "      <td>0</td>\n",
       "      <td>0</td>\n",
       "      <td>0</td>\n",
       "      <td>...</td>\n",
       "      <td>3272</td>\n",
       "      <td>3455</td>\n",
       "      <td>3261</td>\n",
       "      <td>0</td>\n",
       "      <td>1000</td>\n",
       "      <td>1000</td>\n",
       "      <td>1000</td>\n",
       "      <td>0</td>\n",
       "      <td>2000</td>\n",
       "      <td>1</td>\n",
       "    </tr>\n",
       "    <tr>\n",
       "      <th>2</th>\n",
       "      <td>90000</td>\n",
       "      <td>2</td>\n",
       "      <td>2</td>\n",
       "      <td>2</td>\n",
       "      <td>34</td>\n",
       "      <td>0</td>\n",
       "      <td>0</td>\n",
       "      <td>0</td>\n",
       "      <td>0</td>\n",
       "      <td>0</td>\n",
       "      <td>...</td>\n",
       "      <td>14331</td>\n",
       "      <td>14948</td>\n",
       "      <td>15549</td>\n",
       "      <td>1518</td>\n",
       "      <td>1500</td>\n",
       "      <td>1000</td>\n",
       "      <td>1000</td>\n",
       "      <td>1000</td>\n",
       "      <td>5000</td>\n",
       "      <td>0</td>\n",
       "    </tr>\n",
       "    <tr>\n",
       "      <th>3</th>\n",
       "      <td>50000</td>\n",
       "      <td>2</td>\n",
       "      <td>2</td>\n",
       "      <td>1</td>\n",
       "      <td>37</td>\n",
       "      <td>0</td>\n",
       "      <td>0</td>\n",
       "      <td>0</td>\n",
       "      <td>0</td>\n",
       "      <td>0</td>\n",
       "      <td>...</td>\n",
       "      <td>28314</td>\n",
       "      <td>28959</td>\n",
       "      <td>29547</td>\n",
       "      <td>2000</td>\n",
       "      <td>2019</td>\n",
       "      <td>1200</td>\n",
       "      <td>1100</td>\n",
       "      <td>1069</td>\n",
       "      <td>1000</td>\n",
       "      <td>0</td>\n",
       "    </tr>\n",
       "    <tr>\n",
       "      <th>4</th>\n",
       "      <td>50000</td>\n",
       "      <td>1</td>\n",
       "      <td>2</td>\n",
       "      <td>1</td>\n",
       "      <td>57</td>\n",
       "      <td>-1</td>\n",
       "      <td>0</td>\n",
       "      <td>-1</td>\n",
       "      <td>0</td>\n",
       "      <td>0</td>\n",
       "      <td>...</td>\n",
       "      <td>20940</td>\n",
       "      <td>19146</td>\n",
       "      <td>19131</td>\n",
       "      <td>2000</td>\n",
       "      <td>36681</td>\n",
       "      <td>10000</td>\n",
       "      <td>9000</td>\n",
       "      <td>689</td>\n",
       "      <td>679</td>\n",
       "      <td>0</td>\n",
       "    </tr>\n",
       "  </tbody>\n",
       "</table>\n",
       "<p>5 rows × 24 columns</p>\n",
       "</div>"
      ],
      "text/plain": [
       "   LIMIT_BAL SEX EDUCATION MARRIAGE  AGE PAY_0 PAY_2 PAY_3 PAY_4 PAY_5  ...  \\\n",
       "0      20000   2         2        1   24     2     2    -1    -1    -2  ...   \n",
       "1     120000   2         2        2   26    -1     2     0     0     0  ...   \n",
       "2      90000   2         2        2   34     0     0     0     0     0  ...   \n",
       "3      50000   2         2        1   37     0     0     0     0     0  ...   \n",
       "4      50000   1         2        1   57    -1     0    -1     0     0  ...   \n",
       "\n",
       "  BILL_AMT4  BILL_AMT5  BILL_AMT6  PAY_AMT1  PAY_AMT2  PAY_AMT3  PAY_AMT4  \\\n",
       "0         0          0          0         0       689         0         0   \n",
       "1      3272       3455       3261         0      1000      1000      1000   \n",
       "2     14331      14948      15549      1518      1500      1000      1000   \n",
       "3     28314      28959      29547      2000      2019      1200      1100   \n",
       "4     20940      19146      19131      2000     36681     10000      9000   \n",
       "\n",
       "   PAY_AMT5  PAY_AMT6  default payment next month  \n",
       "0         0         0                           1  \n",
       "1         0      2000                           1  \n",
       "2      1000      5000                           0  \n",
       "3      1069      1000                           0  \n",
       "4       689       679                           0  \n",
       "\n",
       "[5 rows x 24 columns]"
      ]
     },
     "execution_count": 166,
     "metadata": {},
     "output_type": "execute_result"
    }
   ],
   "source": [
    "#Convert some of the  variables to categorical and ordinal as appropriate\n",
    "catCols = ['SEX','MARRIAGE','default payment next month']\n",
    "creditDef[catCols] = creditDef[catCols].astype('category')\n",
    "ordCols =['PAY_0','PAY_2','PAY_3','PAY_4','PAY_5','PAY_6']\n",
    "ordCatOrder = [8,7,6,5,4,3,2,1,0,-1,-2]\n",
    "\n",
    "catType1= pd.api.types.CategoricalDtype(categories = [8,7,6,5,4,3,2,1,0,-1,-2],ordered=True)\n",
    "creditDef[ordCols] = creditDef[ordCols].astype(catType1)\n",
    "ordCols2 = ['EDUCATION']\n",
    "ordCatOrder2 = [0,4,5,6,3,2,1]\n",
    "catType2= pd.api.types.CategoricalDtype(categories = [0,4,5,6,3,2,1],ordered=True)\n",
    "creditDef[ordCols2] = creditDef[ordCols2].astype(catType2)\n",
    "\n",
    "rmCols = ['ID']\n",
    "creditDefNoID = creditDef.drop(rmCols,axis=1)\n",
    "creditDefNoID.head()\n",
    "\n",
    "\n",
    "#Remove id column "
   ]
  },
  {
   "cell_type": "code",
   "execution_count": 167,
   "metadata": {},
   "outputs": [
    {
     "name": "stdout",
     "output_type": "stream",
     "text": [
      "[2, -1, 0, -2, 1, ..., 4, 8, 7, 5, 6]\n",
      "Length: 11\n",
      "Categories (11, int64): [8 < 7 < 6 < 5 ... 1 < 0 < -1 < -2]\n",
      "[2, 1, 3, 5, 4, 6, 0]\n",
      "Categories (7, int64): [0 < 4 < 5 < 6 < 3 < 2 < 1]\n"
     ]
    }
   ],
   "source": [
    "print(creditDefNoID['PAY_0'].unique())\n",
    "print(creditDefNoID['EDUCATION'].unique())\n",
    "\n",
    "#Print categories of couple of categorical indepnedent variables"
   ]
  },
  {
   "cell_type": "code",
   "execution_count": 168,
   "metadata": {},
   "outputs": [
    {
     "name": "stdout",
     "output_type": "stream",
     "text": [
      "LIMIT_BAL                        int64\n",
      "SEX                           category\n",
      "EDUCATION                     category\n",
      "MARRIAGE                      category\n",
      "AGE                              int64\n",
      "PAY_0                         category\n",
      "PAY_2                         category\n",
      "PAY_3                         category\n",
      "PAY_4                         category\n",
      "PAY_5                         category\n",
      "PAY_6                         category\n",
      "BILL_AMT1                        int64\n",
      "BILL_AMT2                        int64\n",
      "BILL_AMT3                        int64\n",
      "BILL_AMT4                        int64\n",
      "BILL_AMT5                        int64\n",
      "BILL_AMT6                        int64\n",
      "PAY_AMT1                         int64\n",
      "PAY_AMT2                         int64\n",
      "PAY_AMT3                         int64\n",
      "PAY_AMT4                         int64\n",
      "PAY_AMT5                         int64\n",
      "PAY_AMT6                         int64\n",
      "default payment next month    category\n",
      "dtype: object\n",
      "            LIMIT_BAL           AGE      BILL_AMT1      BILL_AMT2  \\\n",
      "count    30000.000000  30000.000000   30000.000000   30000.000000   \n",
      "mean    167484.322667     35.485500   51223.330900   49179.075167   \n",
      "std     129747.661567      9.217904   73635.860576   71173.768783   \n",
      "min      10000.000000     21.000000 -165580.000000  -69777.000000   \n",
      "25%      50000.000000     28.000000    3558.750000    2984.750000   \n",
      "50%     140000.000000     34.000000   22381.500000   21200.000000   \n",
      "75%     240000.000000     41.000000   67091.000000   64006.250000   \n",
      "max    1000000.000000     79.000000  964511.000000  983931.000000   \n",
      "\n",
      "          BILL_AMT3      BILL_AMT4      BILL_AMT5      BILL_AMT6  \\\n",
      "count  3.000000e+04   30000.000000   30000.000000   30000.000000   \n",
      "mean   4.701315e+04   43262.948967   40311.400967   38871.760400   \n",
      "std    6.934939e+04   64332.856134   60797.155770   59554.107537   \n",
      "min   -1.572640e+05 -170000.000000  -81334.000000 -339603.000000   \n",
      "25%    2.666250e+03    2326.750000    1763.000000    1256.000000   \n",
      "50%    2.008850e+04   19052.000000   18104.500000   17071.000000   \n",
      "75%    6.016475e+04   54506.000000   50190.500000   49198.250000   \n",
      "max    1.664089e+06  891586.000000  927171.000000  961664.000000   \n",
      "\n",
      "            PAY_AMT1      PAY_AMT2      PAY_AMT3       PAY_AMT4  \\\n",
      "count   30000.000000  3.000000e+04   30000.00000   30000.000000   \n",
      "mean     5663.580500  5.921163e+03    5225.68150    4826.076867   \n",
      "std     16563.280354  2.304087e+04   17606.96147   15666.159744   \n",
      "min         0.000000  0.000000e+00       0.00000       0.000000   \n",
      "25%      1000.000000  8.330000e+02     390.00000     296.000000   \n",
      "50%      2100.000000  2.009000e+03    1800.00000    1500.000000   \n",
      "75%      5006.000000  5.000000e+03    4505.00000    4013.250000   \n",
      "max    873552.000000  1.684259e+06  896040.00000  621000.000000   \n",
      "\n",
      "            PAY_AMT5       PAY_AMT6  \n",
      "count   30000.000000   30000.000000  \n",
      "mean     4799.387633    5215.502567  \n",
      "std     15278.305679   17777.465775  \n",
      "min         0.000000       0.000000  \n",
      "25%       252.500000     117.750000  \n",
      "50%      1500.000000    1500.000000  \n",
      "75%      4031.500000    4000.000000  \n",
      "max    426529.000000  528666.000000  \n"
     ]
    }
   ],
   "source": [
    "#Overall summary description of dataset\n",
    "print(creditDefNoID.dtypes)\n",
    "print(creditDefNoID.describe())\n",
    "\n"
   ]
  },
  {
   "cell_type": "code",
   "execution_count": 74,
   "metadata": {},
   "outputs": [
    {
     "data": {
      "text/plain": [
       "LIMIT_BAL                     False\n",
       "SEX                           False\n",
       "EDUCATION                     False\n",
       "MARRIAGE                      False\n",
       "AGE                           False\n",
       "PAY_0                         False\n",
       "PAY_2                         False\n",
       "PAY_3                         False\n",
       "PAY_4                         False\n",
       "PAY_5                         False\n",
       "PAY_6                         False\n",
       "BILL_AMT1                     False\n",
       "BILL_AMT2                     False\n",
       "BILL_AMT3                     False\n",
       "BILL_AMT4                     False\n",
       "BILL_AMT5                     False\n",
       "BILL_AMT6                     False\n",
       "PAY_AMT1                      False\n",
       "PAY_AMT2                      False\n",
       "PAY_AMT3                      False\n",
       "PAY_AMT4                      False\n",
       "PAY_AMT5                      False\n",
       "PAY_AMT6                      False\n",
       "default payment next month    False\n",
       "dtype: bool"
      ]
     },
     "execution_count": 74,
     "metadata": {},
     "output_type": "execute_result"
    }
   ],
   "source": [
    "#remove Na\n",
    "NaList=pd.isna(creditDefNoID)\n",
    "NaList.any()\n",
    "#No NA found\n"
   ]
  },
  {
   "cell_type": "code",
   "execution_count": 75,
   "metadata": {},
   "outputs": [
    {
     "data": {
      "text/plain": [
       "LIMIT_BAL                     False\n",
       "SEX                           False\n",
       "EDUCATION                     False\n",
       "MARRIAGE                      False\n",
       "AGE                           False\n",
       "PAY_0                         False\n",
       "PAY_2                         False\n",
       "PAY_3                         False\n",
       "PAY_4                         False\n",
       "PAY_5                         False\n",
       "PAY_6                         False\n",
       "BILL_AMT1                     False\n",
       "BILL_AMT2                     False\n",
       "BILL_AMT3                     False\n",
       "BILL_AMT4                     False\n",
       "BILL_AMT5                     False\n",
       "BILL_AMT6                     False\n",
       "PAY_AMT1                      False\n",
       "PAY_AMT2                      False\n",
       "PAY_AMT3                      False\n",
       "PAY_AMT4                      False\n",
       "PAY_AMT5                      False\n",
       "PAY_AMT6                      False\n",
       "default payment next month    False\n",
       "dtype: bool"
      ]
     },
     "execution_count": 75,
     "metadata": {},
     "output_type": "execute_result"
    }
   ],
   "source": [
    "#Remove Nulls\n",
    "NullList=pd.isnull(creditDefNoID)\n",
    "NullList.any()\n",
    "\n",
    "#No NULLs"
   ]
  },
  {
   "cell_type": "code",
   "execution_count": 170,
   "metadata": {},
   "outputs": [
    {
     "name": "stdout",
     "output_type": "stream",
     "text": [
      "            LIMIT_BAL           AGE     BILL_AMT1      BILL_AMT2  \\\n",
      "count    30000.000000  30000.000000   30000.00000   30000.000000   \n",
      "mean    167484.322667     35.485500   51246.04190   49206.518033   \n",
      "std     129747.661567      9.217904   73608.02908   71150.744613   \n",
      "min      10000.000000     21.000000       0.00000       0.000000   \n",
      "25%      50000.000000     28.000000    3558.75000    2984.750000   \n",
      "50%     140000.000000     34.000000   22381.50000   21200.000000   \n",
      "75%     240000.000000     41.000000   67091.00000   64006.250000   \n",
      "max    1000000.000000     79.000000  964511.00000  983931.000000   \n",
      "\n",
      "          BILL_AMT3      BILL_AMT4      BILL_AMT5      BILL_AMT6  \\\n",
      "count  3.000000e+04   30000.000000   30000.000000   30000.000000   \n",
      "mean   4.704517e+04   43299.651933   40347.092100   38942.268767   \n",
      "std    6.931878e+04   64294.968472   60766.619726   59445.970807   \n",
      "min    0.000000e+00       0.000000       0.000000       0.000000   \n",
      "25%    2.666250e+03    2326.750000    1763.000000    1256.000000   \n",
      "50%    2.008850e+04   19052.000000   18104.500000   17071.000000   \n",
      "75%    6.016475e+04   54506.000000   50190.500000   49198.250000   \n",
      "max    1.664089e+06  891586.000000  927171.000000  961664.000000   \n",
      "\n",
      "            PAY_AMT1      PAY_AMT2      PAY_AMT3       PAY_AMT4  \\\n",
      "count   30000.000000  3.000000e+04   30000.00000   30000.000000   \n",
      "mean     5663.580500  5.921163e+03    5225.68150    4826.076867   \n",
      "std     16563.280354  2.304087e+04   17606.96147   15666.159744   \n",
      "min         0.000000  0.000000e+00       0.00000       0.000000   \n",
      "25%      1000.000000  8.330000e+02     390.00000     296.000000   \n",
      "50%      2100.000000  2.009000e+03    1800.00000    1500.000000   \n",
      "75%      5006.000000  5.000000e+03    4505.00000    4013.250000   \n",
      "max    873552.000000  1.684259e+06  896040.00000  621000.000000   \n",
      "\n",
      "            PAY_AMT5       PAY_AMT6  \n",
      "count   30000.000000   30000.000000  \n",
      "mean     4799.387633    5215.502567  \n",
      "std     15278.305679   17777.465775  \n",
      "min         0.000000       0.000000  \n",
      "25%       252.500000     117.750000  \n",
      "50%      1500.000000    1500.000000  \n",
      "75%      4031.500000    4000.000000  \n",
      "max    426529.000000  528666.000000  \n"
     ]
    }
   ],
   "source": [
    "#Make negative numbers to be zero.\n",
    "numData = creditDefNoID._get_numeric_data()\n",
    "numData[numData<0]=0\n",
    "print(creditDefNoID.describe())\n"
   ]
  },
  {
   "cell_type": "code",
   "execution_count": 77,
   "metadata": {},
   "outputs": [],
   "source": [
    "#Write the modified data to csv\n",
    "creditDefNoID.to_csv('C:\\\\Users\\\\Owner\\\\Documents\\\\DataAnalyticsCourse\\\\C5_Task2\\\\defaulter_clients_processed.csv')"
   ]
  },
  {
   "cell_type": "code",
   "execution_count": 86,
   "metadata": {},
   "outputs": [],
   "source": [
    "#Load modules for plotting\n",
    "import matplotlib.pyplot as plt\n",
    "import seaborn as sns "
   ]
  },
  {
   "cell_type": "code",
   "execution_count": 85,
   "metadata": {},
   "outputs": [
    {
     "name": "stdout",
     "output_type": "stream",
     "text": [
      "Index(['LIMIT_BAL', 'SEX', 'EDUCATION', 'MARRIAGE', 'AGE', 'PAY_0', 'PAY_2',\n",
      "       'PAY_3', 'PAY_4', 'PAY_5', 'PAY_6', 'BILL_AMT1', 'BILL_AMT2',\n",
      "       'BILL_AMT3', 'BILL_AMT4', 'BILL_AMT5', 'BILL_AMT6', 'PAY_AMT1',\n",
      "       'PAY_AMT2', 'PAY_AMT3', 'PAY_AMT4', 'PAY_AMT5', 'PAY_AMT6',\n",
      "       'default payment next month'],\n",
      "      dtype='object')\n",
      "<class 'pandas.core.frame.DataFrame'>\n",
      "RangeIndex: 30000 entries, 0 to 29999\n",
      "Data columns (total 24 columns):\n",
      "LIMIT_BAL                     30000 non-null int64\n",
      "SEX                           30000 non-null category\n",
      "EDUCATION                     30000 non-null category\n",
      "MARRIAGE                      30000 non-null category\n",
      "AGE                           30000 non-null int64\n",
      "PAY_0                         30000 non-null category\n",
      "PAY_2                         30000 non-null category\n",
      "PAY_3                         30000 non-null category\n",
      "PAY_4                         30000 non-null category\n",
      "PAY_5                         30000 non-null category\n",
      "PAY_6                         30000 non-null category\n",
      "BILL_AMT1                     30000 non-null int64\n",
      "BILL_AMT2                     30000 non-null int64\n",
      "BILL_AMT3                     30000 non-null int64\n",
      "BILL_AMT4                     30000 non-null int64\n",
      "BILL_AMT5                     30000 non-null int64\n",
      "BILL_AMT6                     30000 non-null int64\n",
      "PAY_AMT1                      30000 non-null int64\n",
      "PAY_AMT2                      30000 non-null int64\n",
      "PAY_AMT3                      30000 non-null int64\n",
      "PAY_AMT4                      30000 non-null int64\n",
      "PAY_AMT5                      30000 non-null int64\n",
      "PAY_AMT6                      30000 non-null int64\n",
      "default payment next month    30000 non-null category\n",
      "dtypes: category(10), int64(14)\n",
      "memory usage: 3.5 MB\n",
      "None\n",
      "0    23364\n",
      "1     6636\n",
      "Name: default payment next month, dtype: int64\n"
     ]
    }
   ],
   "source": [
    "header = creditDefNoID.dtypes.index\n",
    "print(header)\n",
    "print(creditDefNoID.info())\n",
    "print(creditDefNoID['default payment next month'].value_counts())\n",
    "# 23364 non-defaulters\n",
    "# 6636 defaulters (28%)"
   ]
  },
  {
   "cell_type": "code",
   "execution_count": 106,
   "metadata": {},
   "outputs": [
    {
     "data": {
      "image/png": "[encoded data removed]",
      "text/plain": [
       "<Figure size 432x288 with 1 Axes>"
      ]
     },
     "metadata": {
      "needs_background": "light"
     },
     "output_type": "display_data"
    },
    {
     "data": {
      "text/plain": [
       "<matplotlib.legend.Legend at 0x271e99c3ef0>"
      ]
     },
     "execution_count": 106,
     "metadata": {},
     "output_type": "execute_result"
    },
    {
     "data": {
      "image/png": "[encoded data removed]",
      "text/plain": [
       "<Figure size 630x360 with 1 Axes>"
      ]
     },
     "metadata": {
      "needs_background": "light"
     },
     "output_type": "display_data"
    },
    {
     "data": {
      "image/png": "[encoded data removed]",
      "text/plain": [
       "<Figure size 630x360 with 1 Axes>"
      ]
     },
     "metadata": {
      "needs_background": "light"
     },
     "output_type": "display_data"
    },
    {
     "data": {
      "image/png": "[encoded data removed]",
      "text/plain": [
       "<Figure size 630x360 with 1 Axes>"
      ]
     },
     "metadata": {
      "needs_background": "light"
     },
     "output_type": "display_data"
    }
   ],
   "source": [
    "#Distribution of credit limit balance\n",
    "plt.hist(creditDefNoID['LIMIT_BAL'])\n",
    "plt.show()\n",
    "g = sns.catplot('default payment next month', data=creditDefNoID, hue='EDUCATION', kind='count', aspect=1.75,legend=False)\n",
    "g.set_xlabels('default payment next month')\n",
    "g.set_xticklabels(['No Default','Default'])\n",
    "plt.legend(labels=['Other','Other','Other','Other','HighSchool','Bachelors','Graduate'])\n",
    "\n",
    "g = sns.catplot('default payment next month', data=creditDefNoID, hue='SEX', kind='count', aspect=1.75,legend=False)\n",
    "g.set_xlabels('default payment next month')\n",
    "g.set_xticklabels(['No Default','Default'])\n",
    "plt.legend(labels=['male','female'])\n",
    "\n",
    "\n",
    "g = sns.catplot('default payment next month', data=creditDefNoID, hue='MARRIAGE', kind='count', aspect=1.75,legend=False)\n",
    "g.set_xlabels('default payment next month')\n",
    "g.set_xticklabels(['No Default','Default'])\n",
    "plt.legend(labels=['maried','single','divorced','other'])"
   ]
  },
  {
   "cell_type": "markdown",
   "metadata": {},
   "source": [
    "#The number of customers with university/bachelor's degree and graduate degree are higher and correspondingly the number of defaulters in these 2 groups is high.\n",
    "#The percentage of defaulters is high among the high school education holders compared to people with other education background\n",
    "#The number of female customers and the number of defaulters is marginally higher among females compared to males. The percentage of defaulters is the same\n",
    "#The number of married customers is marginally higher compared to single customers but the percentage of defaulters are not significantly different\n",
    "#When grouped by 'sex' or 'marital status' the number of defaulters is highest for people with university/bacheclor's education background\n"
   ]
  },
  {
   "cell_type": "code",
   "execution_count": 128,
   "metadata": {},
   "outputs": [
    {
     "name": "stdout",
     "output_type": "stream",
     "text": [
      "        Other4  Other5  Other6  HighSchool  Bachelors  GradSchool\n",
      "male         4       6       4         545       1408         906\n",
      "female       3      12       4         692       1922        1130\n",
      "          Other4  Other5  Other6  HighSchool  Bachelors  GradSchool\n",
      "Other          0       0       0           4          1           0\n",
      "Married        3       9       5         754       1666         769\n",
      "Single         4       9       3         452       1619        1254\n",
      "Divorced       0       0       0          27         44          13\n"
     ]
    }
   ],
   "source": [
    "DefList = creditDefNoID[creditDefNoID['default payment next month']==1]\n",
    "table1 = pd.pivot_table(DefList,values=['default payment next month'], index=['SEX'], columns=['EDUCATION'], aggfunc=np.sum,fill_value=0)\n",
    "\n",
    "table1.index = ['male','female']\n",
    "table1.columns = ['Other4','Other5','Other6','HighSchool','Bachelors','GradSchool']\n",
    "\n",
    "print(table1)\n",
    "\n",
    "table2 = pd.pivot_table(DefList,values=['default payment next month'], index=['MARRIAGE'], columns=['EDUCATION'], aggfunc=np.sum,fill_value=0)\n",
    "table2.index = ['Other','Married','Single','Divorced']\n",
    "\n",
    "table2.columns = ['Other4','Other5','Other6','HighSchool','Bachelors','GradSchool']\n",
    "\n",
    "print(table2)\n",
    "\n"
   ]
  },
  {
   "cell_type": "code",
   "execution_count": 153,
   "metadata": {},
   "outputs": [
    {
     "data": {
      "image/png": "[encoded data removed]",
      "text/plain": [
       "<Figure size 432x288 with 1 Axes>"
      ]
     },
     "metadata": {
      "needs_background": "light"
     },
     "output_type": "display_data"
    },
    {
     "data": {
      "image/png": "[encoded data removed]",
      "text/plain": [
       "<Figure size 432x288 with 1 Axes>"
      ]
     },
     "metadata": {
      "needs_background": "light"
     },
     "output_type": "display_data"
    },
    {
     "data": {
      "image/png": "[encoded data removed]",
      "text/plain": [
       "<Figure size 432x288 with 1 Axes>"
      ]
     },
     "metadata": {
      "needs_background": "light"
     },
     "output_type": "display_data"
    },
    {
     "data": {
      "image/png": "[encoded data removed]",
      "text/plain": [
       "<Figure size 432x288 with 1 Axes>"
      ]
     },
     "metadata": {
      "needs_background": "light"
     },
     "output_type": "display_data"
    },
    {
     "name": "stdout",
     "output_type": "stream",
     "text": [
      "30000\n",
      "6636\n"
     ]
    }
   ],
   "source": [
    "plt.hist(creditDefNoID['AGE'], bins=6)\n",
    "plt.ylim(0,12000)\n",
    "plt.xlabel('AGE')\n",
    "plt.title('ALL DATA')\n",
    "plt.ylabel('count')\n",
    "\n",
    "\n",
    "plt.show()\n",
    "\n",
    "plt.hist(DefList['AGE'], bins=6)\n",
    "plt.ylim(0,12000)\n",
    "plt.xlabel('AGE')\n",
    "plt.title('DEFAULTERS ONLY')\n",
    "plt.ylabel('count')\n",
    "\n",
    "\n",
    "\n",
    "\n",
    "plt.show()\n",
    "\n",
    "#plt.plot(creditDefNoID['LIMIT_BAL'])\n",
    "#plt.show()\n",
    "\n",
    "plt.hist(creditDefNoID['LIMIT_BAL'],bins=[0, 100000 ,200000, 300000, 400000 ,500000, 600000, 700000, 800000 ,900000, 1000000])\n",
    "plt.ylim(0,12000)\n",
    "plt.xlabel('BALANCE IN NT')\n",
    "plt.title('ALL DATA')\n",
    "plt.ylabel('count')\n",
    "\n",
    "\n",
    "\n",
    "plt.show()\n",
    "\n",
    "plt.hist(DefList['LIMIT_BAL'], bins=[0, 100000 ,200000, 300000, 400000 ,500000, 600000, 700000, 800000 ,900000, 1000000])\n",
    "plt.ylim(0,12000)\n",
    "plt.xlabel('BALANCE IN NT')\n",
    "plt.title('DEFAULTERS ONLY')\n",
    "plt.ylabel('count')\n",
    "\n",
    "plt.show()\n",
    "\n",
    "print(len(creditDefNoID))\n",
    "print(len(DefList))"
   ]
  },
  {
   "cell_type": "markdown",
   "metadata": {},
   "source": [
    "#Majority of customers are in age group 20- 40 and majority of defaulters are in age group 20- 40\n",
    "#The percentage of defaulters is very similar across age groups ( in range 15-30%)\n",
    "#Majority of customers and defaulters have limit less than 300000\n",
    "#The percentage of defaulters is very similar across the credit limit range\n",
    "\n",
    "\n",
    "\n",
    "\n"
   ]
  },
  {
   "cell_type": "code",
   "execution_count": 193,
   "metadata": {},
   "outputs": [
    {
     "data": {
      "text/plain": [
       "Text(0.5, 1, 'Divorced')"
      ]
     },
     "execution_count": 193,
     "metadata": {},
     "output_type": "execute_result"
    },
    {
     "data": {
      "image/png": "[encoded data removed]",
      "text/plain": [
       "<Figure size 720x360 with 4 Axes>"
      ]
     },
     "metadata": {
      "needs_background": "light"
     },
     "output_type": "display_data"
    }
   ],
   "source": [
    "g2 = sns.catplot('default payment next month', data=creditDefNoID,kind='count', hue='EDUCATION',col='MARRIAGE',aspect=0.5,legend=False)\n",
    "#g2.set_xlabels('default payment next month')\n",
    "g2.set_xticklabels(['No Default','Default'])\n",
    "plt.legend(labels=['Other','Other','Other','Other','HighSchool','Bachelors','Graduate'])\n",
    "\n",
    "g2Axes=g2.axes.flatten()\n",
    "g2Axes[0].set_title('Other')\n",
    "g2Axes[1].set_title('Married')\n",
    "g2Axes[2].set_title('Single')\n",
    "g2Axes[3].set_title('Divorced')\n",
    "\n",
    "\n"
   ]
  },
  {
   "cell_type": "markdown",
   "metadata": {},
   "source": [
    "#Single people with graduate level education appear to be the highest category of customers\n",
    "#Percentage of defaulters for bachelor/university educated people among single and married people are the same\n",
    "#Percentage of defaulters among single people with graduate level education is a bit lower than married people with graduate level education"
   ]
  },
  {
   "cell_type": "code",
   "execution_count": 190,
   "metadata": {},
   "outputs": [
    {
     "data": {
      "text/plain": [
       "Text(0.5, 1, 'Female')"
      ]
     },
     "execution_count": 190,
     "metadata": {},
     "output_type": "execute_result"
    },
    {
     "data": {
      "image/png": "[encoded data removed]",
      "text/plain": [
       "<Figure size 540x360 with 2 Axes>"
      ]
     },
     "metadata": {
      "needs_background": "light"
     },
     "output_type": "display_data"
    }
   ],
   "source": [
    "g3 = sns.catplot('default payment next month', data=creditDefNoID,kind='count', hue='EDUCATION',col='SEX',aspect=0.75,legend=False)\n",
    "g3.set_xticklabels(['No Default','Default'])\n",
    "plt.legend(labels=['Other','Other','Other','Other','HighSchool','Bachelors','Graduate'])\n",
    "\n",
    "\n",
    "#g3.set_titles(['Other','Married','Single','Divorced']\n",
    "#PlotTitles = ['Male','female']\n",
    "\n",
    "#g3.set_titles(['Male','Female'])\n",
    "g3Axes=g3.axes.flatten()\n",
    "g3Axes[0].set_title('Male')\n",
    "g3Axes[1].set_title('Female')"
   ]
  },
  {
   "cell_type": "markdown",
   "metadata": {},
   "source": [
    "#Number of females with higher level education is more than that of males\n",
    "#Percentage of defaulters among highly educated female customers was much lower than the corresponding males."
   ]
  },
  {
   "cell_type": "code",
   "execution_count": 159,
   "metadata": {},
   "outputs": [
    {
     "data": {
      "text/plain": [
       "Text(0.5, 1.0, 'Defaulters ONly')"
      ]
     },
     "execution_count": 159,
     "metadata": {},
     "output_type": "execute_result"
    },
    {
     "data": {
      "image/png": "[encoded data removed]",
      "text/plain": [
       "<Figure size 432x288 with 1 Axes>"
      ]
     },
     "metadata": {
      "needs_background": "light"
     },
     "output_type": "display_data"
    },
    {
     "data": {
      "image/png": "[encoded data removed]",
      "text/plain": [
       "<Figure size 432x288 with 1 Axes>"
      ]
     },
     "metadata": {
      "needs_background": "light"
     },
     "output_type": "display_data"
    }
   ],
   "source": [
    "plt.scatter(creditDefNoID['LIMIT_BAL'],creditDefNoID['default payment next month'])\n",
    "plt.xlabel('Balance in NT')\n",
    "plt.ylabel('Default')\n",
    "plt.title('Balance to defaulter/non-defaulter relation')\n",
    "\n",
    "\n",
    "plt.figure()\n",
    "\n",
    "plt.scatter(DefList['LIMIT_BAL'],DefList['AGE'])\n",
    "plt.xlabel('Balance in NT')\n",
    "plt.ylabel('Age')\n",
    "plt.title('Defaulters ONly')\n",
    "\n"
   ]
  },
  {
   "cell_type": "markdown",
   "metadata": {},
   "source": [
    "#Balance Limit above 600000 customers are less likely to default\n",
    "#Most defaulters are in age group 25-55 and balance limits less than 400000"
   ]
  },
  {
   "cell_type": "code",
   "execution_count": 197,
   "metadata": {},
   "outputs": [
    {
     "data": {
      "image/png": "[encoded data removed]",
      "text/plain": [
       "<Figure size 432x288 with 1 Axes>"
      ]
     },
     "metadata": {
      "needs_background": "light"
     },
     "output_type": "display_data"
    },
    {
     "data": {
      "image/png": "[encoded data removed]",
      "text/plain": [
       "<Figure size 432x288 with 1 Axes>"
      ]
     },
     "metadata": {
      "needs_background": "light"
     },
     "output_type": "display_data"
    }
   ],
   "source": [
    "data = [DefList['BILL_AMT1'], DefList['BILL_AMT2'],DefList['BILL_AMT3'],DefList['BILL_AMT4'],DefList['BILL_AMT5'],DefList['BILL_AMT6']]\n",
    "fig1, ax1 = plt.subplots()\n",
    "ax1.set_title('Last 6 month bill amounts of defaulters')\n",
    "ax1.boxplot(data)\n",
    "\n",
    "plt.show()\n",
    "\n",
    "NoDefList = creditDefNoID[creditDefNoID['default payment next month']==0]\n",
    "\n",
    "data2 = [NoDefList['BILL_AMT1'], NoDefList['BILL_AMT2'],NoDefList['BILL_AMT3'],NoDefList['BILL_AMT4'],NoDefList['BILL_AMT5'],NoDefList['BILL_AMT6']]\n",
    "fig2, ax2 = plt.subplots()\n",
    "ax2.set_title('Last 6 month bill amounts of Non-defaulters')\n",
    "ax2.boxplot(data2)\n",
    "\n",
    "plt.show()\n"
   ]
  },
  {
   "cell_type": "markdown",
   "metadata": {},
   "source": [
    "# the monthly balance of most people is 150000 or less. This does not change much between defaulters and non- defaulters."
   ]
  },
  {
   "cell_type": "code",
   "execution_count": 161,
   "metadata": {},
   "outputs": [
    {
     "name": "stdout",
     "output_type": "stream",
     "text": [
      "           LIMIT_BAL       AGE  BILL_AMT1  BILL_AMT2  BILL_AMT3  BILL_AMT4  \\\n",
      "LIMIT_BAL   1.000000  0.144713   0.285698   0.278569   0.283514   0.294369   \n",
      "AGE         0.144713  1.000000   0.056252   0.054350   0.053873   0.051583   \n",
      "BILL_AMT1   0.285698  0.056252   1.000000   0.952279   0.893249   0.861244   \n",
      "BILL_AMT2   0.278569  0.054350   0.952279   1.000000   0.928928   0.893297   \n",
      "BILL_AMT3   0.283514  0.053873   0.893249   0.928928   1.000000   0.924873   \n",
      "BILL_AMT4   0.294369  0.051583   0.861244   0.893297   0.924873   1.000000   \n",
      "BILL_AMT5   0.295848  0.049414   0.830523   0.860281   0.884569   0.940943   \n",
      "BILL_AMT6   0.291505  0.047598   0.804333   0.832979   0.854801   0.902608   \n",
      "PAY_AMT1    0.195236  0.026147   0.143688   0.280361   0.244730   0.233159   \n",
      "PAY_AMT2    0.178408  0.021785   0.100112   0.102437   0.316984   0.207674   \n",
      "PAY_AMT3    0.210167  0.029247   0.156966   0.151160   0.132145   0.300246   \n",
      "PAY_AMT4    0.203242  0.021379   0.158422   0.147547   0.143671   0.134628   \n",
      "PAY_AMT5    0.217202  0.022850   0.167260   0.158334   0.179880   0.160678   \n",
      "PAY_AMT6    0.219595  0.019478   0.179446   0.174338   0.182506   0.177812   \n",
      "\n",
      "           BILL_AMT5  BILL_AMT6  PAY_AMT1  PAY_AMT2  PAY_AMT3  PAY_AMT4  \\\n",
      "LIMIT_BAL   0.295848   0.291505  0.195236  0.178408  0.210167  0.203242   \n",
      "AGE         0.049414   0.047598  0.026147  0.021785  0.029247  0.021379   \n",
      "BILL_AMT1   0.830523   0.804333  0.143688  0.100112  0.156966  0.158422   \n",
      "BILL_AMT2   0.860281   0.832979  0.280361  0.102437  0.151160  0.147547   \n",
      "BILL_AMT3   0.884569   0.854801  0.244730  0.316984  0.132145  0.143671   \n",
      "BILL_AMT4   0.940943   0.902608  0.233159  0.207674  0.300246  0.134628   \n",
      "BILL_AMT5   1.000000   0.947510  0.217072  0.181290  0.252371  0.293427   \n",
      "BILL_AMT6   0.947510   1.000000  0.200354  0.172887  0.234084  0.250522   \n",
      "PAY_AMT1    0.217072   0.200354  1.000000  0.285576  0.252191  0.199558   \n",
      "PAY_AMT2    0.181290   0.172887  0.285576  1.000000  0.244770  0.180107   \n",
      "PAY_AMT3    0.252371   0.234084  0.252191  0.244770  1.000000  0.216325   \n",
      "PAY_AMT4    0.293427   0.250522  0.199558  0.180107  0.216325  1.000000   \n",
      "PAY_AMT5    0.143258   0.308070  0.148459  0.180908  0.159214  0.151830   \n",
      "PAY_AMT6    0.164534   0.123087  0.185735  0.157634  0.162740  0.157834   \n",
      "\n",
      "           PAY_AMT5  PAY_AMT6  \n",
      "LIMIT_BAL  0.217202  0.219595  \n",
      "AGE        0.022850  0.019478  \n",
      "BILL_AMT1  0.167260  0.179446  \n",
      "BILL_AMT2  0.158334  0.174338  \n",
      "BILL_AMT3  0.179880  0.182506  \n",
      "BILL_AMT4  0.160678  0.177812  \n",
      "BILL_AMT5  0.143258  0.164534  \n",
      "BILL_AMT6  0.308070  0.123087  \n",
      "PAY_AMT1   0.148459  0.185735  \n",
      "PAY_AMT2   0.180908  0.157634  \n",
      "PAY_AMT3   0.159214  0.162740  \n",
      "PAY_AMT4   0.151830  0.157834  \n",
      "PAY_AMT5   1.000000  0.154896  \n",
      "PAY_AMT6   0.154896  1.000000  \n",
      "              LIMIT_BAL            AGE     BILL_AMT1     BILL_AMT2  \\\n",
      "LIMIT_BAL  1.683446e+10  173076.722569  2.728550e+09  2.571653e+09   \n",
      "AGE        1.730767e+05      84.969755  3.816734e+04  3.564634e+04   \n",
      "BILL_AMT1  2.728550e+09   38167.344102  5.418142e+09  4.987341e+09   \n",
      "BILL_AMT2  2.571653e+09   35646.336106  4.987341e+09  5.062428e+09   \n",
      "BILL_AMT3  2.549913e+09   34423.607518  4.557730e+09  4.581551e+09   \n",
      "BILL_AMT4  2.455666e+09   30571.550238  4.075945e+09  4.086508e+09   \n",
      "BILL_AMT5  2.332559e+09   27678.533803  3.714856e+09  3.719504e+09   \n",
      "BILL_AMT6  2.248371e+09   26082.158986  3.519519e+09  3.523189e+09   \n",
      "PAY_AMT1   4.195711e+08    3992.041735  1.751830e+08  3.304030e+08   \n",
      "PAY_AMT2   5.333504e+08    4626.861549  1.697899e+08  1.679334e+08   \n",
      "PAY_AMT3   4.801180e+08    4746.824393  2.034305e+08  1.893659e+08   \n",
      "PAY_AMT4   4.131202e+08    3087.324192  1.826846e+08  1.644646e+08   \n",
      "PAY_AMT5   4.305657e+08    3218.052172  1.881019e+08  1.721194e+08   \n",
      "PAY_AMT6   5.065153e+08    3191.903901  2.348167e+08  2.205169e+08   \n",
      "\n",
      "              BILL_AMT3     BILL_AMT4     BILL_AMT5     BILL_AMT6  \\\n",
      "LIMIT_BAL  2.549913e+09  2.455666e+09  2.332559e+09  2.248371e+09   \n",
      "AGE        3.442361e+04  3.057155e+04  2.767853e+04  2.608216e+04   \n",
      "BILL_AMT1  4.557730e+09  4.075945e+09  3.714856e+09  3.519519e+09   \n",
      "BILL_AMT2  4.581551e+09  4.086508e+09  3.719504e+09  3.523189e+09   \n",
      "BILL_AMT3  4.805093e+09  4.122017e+09  3.726043e+09  3.522397e+09   \n",
      "BILL_AMT4  4.122017e+09  4.133843e+09  3.676253e+09  3.449838e+09   \n",
      "BILL_AMT5  3.726043e+09  3.676253e+09  3.692582e+09  3.422718e+09   \n",
      "BILL_AMT6  3.522397e+09  3.449838e+09  3.422718e+09  3.533823e+09   \n",
      "PAY_AMT1   2.809854e+08  2.482995e+08  2.184819e+08  1.972726e+08   \n",
      "PAY_AMT2   5.062764e+08  3.076504e+08  2.538274e+08  2.368013e+08   \n",
      "PAY_AMT3   1.612815e+08  3.398907e+08  2.700159e+08  2.450069e+08   \n",
      "PAY_AMT4   1.560204e+08  1.356050e+08  2.793369e+08  2.333086e+08   \n",
      "PAY_AMT5   1.905061e+08  1.578366e+08  1.330024e+08  2.798000e+08   \n",
      "PAY_AMT6   2.249047e+08  2.032389e+08  1.777424e+08  1.300785e+08   \n",
      "\n",
      "               PAY_AMT1      PAY_AMT2      PAY_AMT3      PAY_AMT4  \\\n",
      "LIMIT_BAL  4.195711e+08  5.333504e+08  4.801180e+08  4.131202e+08   \n",
      "AGE        3.992042e+03  4.626862e+03  4.746824e+03  3.087324e+03   \n",
      "BILL_AMT1  1.751830e+08  1.697899e+08  2.034305e+08  1.826846e+08   \n",
      "BILL_AMT2  3.304030e+08  1.679334e+08  1.893659e+08  1.644646e+08   \n",
      "BILL_AMT3  2.809854e+08  5.062764e+08  1.612815e+08  1.560204e+08   \n",
      "BILL_AMT4  2.482995e+08  3.076504e+08  3.398907e+08  1.356050e+08   \n",
      "BILL_AMT5  2.184819e+08  2.538274e+08  2.700159e+08  2.793369e+08   \n",
      "BILL_AMT6  1.972726e+08  2.368013e+08  2.450069e+08  2.333086e+08   \n",
      "PAY_AMT1   2.743423e+08  1.089849e+08  7.354626e+07  5.178189e+07   \n",
      "PAY_AMT2   1.089849e+08  5.308817e+08  9.929841e+07  6.501168e+07   \n",
      "PAY_AMT3   7.354626e+07  9.929841e+07  3.100051e+08  5.966970e+07   \n",
      "PAY_AMT4   5.178189e+07  6.501168e+07  5.966970e+07  2.454286e+08   \n",
      "PAY_AMT5   3.756893e+07  6.368414e+07  4.282921e+07  3.634098e+07   \n",
      "PAY_AMT6   5.469033e+07  6.456816e+07  5.093879e+07  4.395747e+07   \n",
      "\n",
      "               PAY_AMT5      PAY_AMT6  \n",
      "LIMIT_BAL  4.305657e+08  5.065153e+08  \n",
      "AGE        3.218052e+03  3.191904e+03  \n",
      "BILL_AMT1  1.881019e+08  2.348167e+08  \n",
      "BILL_AMT2  1.721194e+08  2.205169e+08  \n",
      "BILL_AMT3  1.905061e+08  2.249047e+08  \n",
      "BILL_AMT4  1.578366e+08  2.032389e+08  \n",
      "BILL_AMT5  1.330024e+08  1.777424e+08  \n",
      "BILL_AMT6  2.798000e+08  1.300785e+08  \n",
      "PAY_AMT1   3.756893e+07  5.469033e+07  \n",
      "PAY_AMT2   6.368414e+07  6.456816e+07  \n",
      "PAY_AMT3   4.282921e+07  5.093879e+07  \n",
      "PAY_AMT4   3.634098e+07  4.395747e+07  \n",
      "PAY_AMT5   2.334266e+08  4.207110e+07  \n",
      "PAY_AMT6   4.207110e+07  3.160383e+08  \n"
     ]
    }
   ],
   "source": [
    "corrMat = creditDefNoID.corr()\n",
    "print(corrMat)\n",
    "\n",
    "covMat = creditDefNoID.cov()\n",
    "print(covMat)"
   ]
  },
  {
   "cell_type": "markdown",
   "metadata": {},
   "source": [
    "#The bill amunts have strong correlation to previous bill amounts\n",
    "#The pay amounts have no strong correlation between previous bill amounts or pay amounts"
   ]
  },
  {
   "cell_type": "markdown",
   "metadata": {},
   "source": [
    "#Overall summary and recommendations:\n",
    "#It appears the percentage of defaulters does not change significantly between different age groups, balance limits or education level\n",
    "#Theere are fewer older customers than younger customers\n",
    "#Higher crediat limits do not necessaril translate to higher defaults\n",
    "#It is assumed that demographics is obtained for th eprimary member/customer of the family to avoid double counts\n",
    "\n",
    "#It will be good to have information how many months  of payment has been completed, family income\n",
    "#It will be good to have employment status information\n",
    "#Focus needs to be on identfying defaulters among younger customers with lower credit limits in order to bring the number of defaulters down.\n",
    "#Ideally, the goal is not to bring just the percentage of defaulters down.\n"
   ]
  }
 ],
 "metadata": {
  "kernelspec": {
   "display_name": "Python 3",
   "language": "python",
   "name": "python3"
  },
  "language_info": {
   "codemirror_mode": {
    "name": "ipython",
    "version": 3
   },
   "file_extension": ".py",
   "mimetype": "text/x-python",
   "name": "python",
   "nbconvert_exporter": "python",
   "pygments_lexer": "ipython3",
   "version": "3.7.3"
  }
 },
 "nbformat": 4,
 "nbformat_minor": 2
}
